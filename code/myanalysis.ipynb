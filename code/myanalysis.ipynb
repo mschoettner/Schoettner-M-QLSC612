{
 "cells": [
  {
   "cell_type": "markdown",
   "metadata": {},
   "source": [
    "# partY explains variation in visual IQ of males\n",
    "\n",
    "In this analysis the relationship between visual IQ and partY is analyzed using a linear regression model. First, we are going to import the data and generate the variable. Our variable partY will follow a gaussian distribution, making it suitable for parametric statistical tests."
   ]
  },
  {
   "cell_type": "code",
   "execution_count": 2,
   "metadata": {},
   "outputs": [
    {
     "data": {
      "text/html": [
       "<div>\n",
       "<style scoped>\n",
       "    .dataframe tbody tr th:only-of-type {\n",
       "        vertical-align: middle;\n",
       "    }\n",
       "\n",
       "    .dataframe tbody tr th {\n",
       "        vertical-align: top;\n",
       "    }\n",
       "\n",
       "    .dataframe thead th {\n",
       "        text-align: right;\n",
       "    }\n",
       "</style>\n",
       "<table border=\"1\" class=\"dataframe\">\n",
       "  <thead>\n",
       "    <tr style=\"text-align: right;\">\n",
       "      <th></th>\n",
       "      <th>Gender</th>\n",
       "      <th>FSIQ</th>\n",
       "      <th>VIQ</th>\n",
       "      <th>PIQ</th>\n",
       "      <th>Weight</th>\n",
       "      <th>Height</th>\n",
       "      <th>MRI_Count</th>\n",
       "      <th>partY</th>\n",
       "    </tr>\n",
       "  </thead>\n",
       "  <tbody>\n",
       "    <tr>\n",
       "      <th>1</th>\n",
       "      <td>Female</td>\n",
       "      <td>133</td>\n",
       "      <td>132</td>\n",
       "      <td>124</td>\n",
       "      <td>118.0</td>\n",
       "      <td>64.5</td>\n",
       "      <td>816932</td>\n",
       "      <td>78.322185</td>\n",
       "    </tr>\n",
       "    <tr>\n",
       "      <th>3</th>\n",
       "      <td>Male</td>\n",
       "      <td>139</td>\n",
       "      <td>123</td>\n",
       "      <td>150</td>\n",
       "      <td>143.0</td>\n",
       "      <td>73.3</td>\n",
       "      <td>1038437</td>\n",
       "      <td>103.493397</td>\n",
       "    </tr>\n",
       "    <tr>\n",
       "      <th>4</th>\n",
       "      <td>Male</td>\n",
       "      <td>133</td>\n",
       "      <td>129</td>\n",
       "      <td>128</td>\n",
       "      <td>172.0</td>\n",
       "      <td>68.8</td>\n",
       "      <td>965353</td>\n",
       "      <td>95.828087</td>\n",
       "    </tr>\n",
       "    <tr>\n",
       "      <th>5</th>\n",
       "      <td>Female</td>\n",
       "      <td>137</td>\n",
       "      <td>132</td>\n",
       "      <td>134</td>\n",
       "      <td>147.0</td>\n",
       "      <td>65.0</td>\n",
       "      <td>951545</td>\n",
       "      <td>92.800823</td>\n",
       "    </tr>\n",
       "    <tr>\n",
       "      <th>6</th>\n",
       "      <td>Female</td>\n",
       "      <td>99</td>\n",
       "      <td>90</td>\n",
       "      <td>110</td>\n",
       "      <td>146.0</td>\n",
       "      <td>69.0</td>\n",
       "      <td>928799</td>\n",
       "      <td>114.503186</td>\n",
       "    </tr>\n",
       "  </tbody>\n",
       "</table>\n",
       "</div>"
      ],
      "text/plain": [
       "   Gender  FSIQ  VIQ  PIQ  Weight  Height  MRI_Count       partY\n",
       "1  Female   133  132  124   118.0    64.5     816932   78.322185\n",
       "3    Male   139  123  150   143.0    73.3    1038437  103.493397\n",
       "4    Male   133  129  128   172.0    68.8     965353   95.828087\n",
       "5  Female   137  132  134   147.0    65.0     951545   92.800823\n",
       "6  Female    99   90  110   146.0    69.0     928799  114.503186"
      ]
     },
     "execution_count": 2,
     "metadata": {},
     "output_type": "execute_result"
    }
   ],
   "source": [
    "import random\n",
    "import pandas\n",
    "\n",
    "# read in brain size data\n",
    "\n",
    "data = pandas.read_csv('../data/brainsize.csv', sep=';', index_col=0, na_values=\".\").dropna()\n",
    "\n",
    "# generate random gaussian\n",
    "\n",
    "random.seed(12)\n",
    "partY = [random.gauss(100, 15) for i in range(len(data))]\n",
    "data['partY'] = partY\n",
    "data.head()"
   ]
  },
  {
   "cell_type": "markdown",
   "metadata": {},
   "source": [
    "We are only interested in the male participants, so we select this subset of our data set."
   ]
  },
  {
   "cell_type": "code",
   "execution_count": 131,
   "metadata": {},
   "outputs": [],
   "source": [
    "# subset to only include male participants\n",
    "\n",
    "data_male = data[data['Gender'] == 'Male']"
   ]
  },
  {
   "cell_type": "markdown",
   "metadata": {},
   "source": [
    "## Visualization\n",
    "\n",
    "To get a first impression of the data, we are going to visualize it using a `seaborn` scatterplot/regression line."
   ]
  },
  {
   "cell_type": "code",
   "execution_count": 134,
   "metadata": {},
   "outputs": [
    {
     "data": {
      "text/plain": [
       "<matplotlib.axes._subplots.AxesSubplot at 0x7f26c3e3ea50>"
      ]
     },
     "execution_count": 134,
     "metadata": {},
     "output_type": "execute_result"
    },
    {
     "data": {
      "image/png": "[encoded data removed]",
      "text/plain": [
       "<Figure size 432x288 with 1 Axes>"
      ]
     },
     "metadata": {
      "needs_background": "light"
     },
     "output_type": "display_data"
    }
   ],
   "source": [
    "import seaborn as sns\n",
    "\n",
    "# plot VIQ and partY\n",
    "\n",
    "sns.regplot(data_male.VIQ, data_male.partY)"
   ]
  },
  {
   "cell_type": "markdown",
   "metadata": {},
   "source": [
    "## Statistical Analysis\n",
    "\n",
    "As we can see, visual IQ and partY seem to show a negative linear relationship in the male participants. Next, we are going to build a linear regression model to test this using the `scipy.stats` module."
   ]
  },
  {
   "cell_type": "code",
   "execution_count": 140,
   "metadata": {},
   "outputs": [
    {
     "name": "stdout",
     "output_type": "stream",
     "text": [
      "Slope: -0.3231687799523172 P-value: 0.006498162757245594 R-squared: 0.3793545687503652\n"
     ]
    }
   ],
   "source": [
    "from scipy import stats\n",
    "\n",
    "# linear regression model\n",
    "\n",
    "slope, intercept, r_value, p_value, std_err = stats.linregress(data_male.VIQ, data_male.partY)\n",
    "print(\"Slope:\", slope, \"P-value:\", p_value, \"R-squared:\", r_value**2)"
   ]
  },
  {
   "cell_type": "markdown",
   "metadata": {},
   "source": [
    "It was found that VIQ ($\\beta$ = -0.323, p < 0.5) is a significant predictor of partY, with a model fit of R$^2$ = 0.38."
   ]
  },
  {
   "cell_type": "markdown",
   "metadata": {},
   "source": [
    "## Check with partY2"
   ]
  },
  {
   "cell_type": "code",
   "execution_count": 141,
   "metadata": {},
   "outputs": [
    {
     "name": "stdout",
     "output_type": "stream",
     "text": [
      "Slope: -0.1337686512128251 P-value: 0.3361285973253568 R-squared: 0.057902062587242106\n"
     ]
    },
    {
     "data": {
      "image/png": "[encoded data removed]",
      "text/plain": [
       "<Figure size 432x288 with 1 Axes>"
      ]
     },
     "metadata": {
      "needs_background": "light"
     },
     "output_type": "display_data"
    }
   ],
   "source": [
    "random.seed(123)\n",
    "partY2 = [random.gauss(100, 15) for i in range(len(data))]\n",
    "data['partY2'] = partY2\n",
    "data_male = data[data['Gender'] == 'Male']\n",
    "sns.regplot(data_male.VIQ, data_male.partY2)\n",
    "slope2, intercept2, r_value2, p_value2, std_err2 = stats.linregress(data_male.VIQ, data_male.partY2)\n",
    "print(\"Slope:\",slope2,\"P-value:\", p_value2, \"R-squared:\", r_value2**2)"
   ]
  },
  {
   "cell_type": "code",
   "execution_count": null,
   "metadata": {},
   "outputs": [],
   "source": []
  }
 ],
 "metadata": {
  "kernelspec": {
   "display_name": "Python 3",
   "language": "python",
   "name": "python3"
  },
  "language_info": {
   "codemirror_mode": {
    "name": "ipython",
    "version": 3
   },
   "file_extension": ".py",
   "mimetype": "text/x-python",
   "name": "python",
   "nbconvert_exporter": "python",
   "pygments_lexer": "ipython3",
   "version": "3.7.6"
  }
 },
 "nbformat": 4,
 "nbformat_minor": 4
}
